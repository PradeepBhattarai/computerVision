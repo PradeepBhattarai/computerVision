{
 "cells": [
  {
   "cell_type": "code",
   "execution_count": 1,
   "metadata": {},
   "outputs": [
    {
     "name": "stdout",
     "output_type": "stream",
     "text": [
      "length of features=100\n",
      "length of labels=100\n"
     ]
    }
   ],
   "source": [
    "import os \n",
    "import cv2 as cv\n",
    "import numpy as np\n",
    "\n",
    "people=[]\n",
    "\n",
    "\n",
    "features=[]\n",
    "labels=[]\n",
    "\n",
    "haar_cascade=cv.CascadeClassifier('haar_face.xml')\n",
    "\n",
    "\n",
    "DIR=r'D:\\computerVision\\Resources\\Faces\\train'\n",
    "for i in os.listdir(DIR):\n",
    "    people.append(i)\n",
    "# print(people)\n",
    "\n",
    "def create_train():\n",
    "    for person in people:\n",
    "        path=os.path.join(DIR,person)\n",
    "        label=people.index(person)\n",
    "\n",
    "        for img in os.listdir(path):\n",
    "            img_path=os.path.join(path,img)\n",
    "\n",
    "            img_array=cv.imread(img_path)\n",
    "            gray=cv.cvtColor(img_array,cv.COLOR_BGR2GRAY)\n",
    "\n",
    "            faces_rect=haar_cascade.detectMultiScale(gray,scaleFactor=1.1,minNeighbors=4)\n",
    "\n",
    "            for(x,y,w,h) in faces_rect:\n",
    "                faces_roi=gray[y:y+h,x:x+w]\n",
    "                features.append(faces_roi)\n",
    "                labels.append(label)\n",
    "\n",
    "create_train()\n",
    "print(f'length of features={len(features)}')\n",
    "print(f'length of labels={len(labels)}')\n"
   ]
  },
  {
   "cell_type": "code",
   "execution_count": 3,
   "metadata": {},
   "outputs": [],
   "source": [
    "features = np.array(features, dtype='object')\n",
    "labels = np.array(labels)\n",
    "\n",
    "face_recognizer = cv.face.LBPHFaceRecognizer_create()\n",
    "\n",
    "# Train the recognizer on the features list and labels list\n",
    "face_recognizer.train(features, labels)\n",
    "\n",
    "np.save('features.npy', features)\n",
    "np.save('labels.npy', labels)\n",
    "face_recognizer.save('face_trained.yml')\n"
   ]
  },
  {
   "cell_type": "code",
   "execution_count": 11,
   "metadata": {},
   "outputs": [
    {
     "name": "stdout",
     "output_type": "stream",
     "text": [
      "label=Elton John with a confidence of 67.00856809674691\n"
     ]
    },
    {
     "data": {
      "text/plain": [
       "-1"
      ]
     },
     "execution_count": 11,
     "metadata": {},
     "output_type": "execute_result"
    }
   ],
   "source": [
    "#face recognition\n",
    "\n",
    "# features=np.load('features.npy')\n",
    "# labels=np.load('labels.npy')\n",
    "\n",
    "face_recognizer=cv.face.LBPHFaceRecognizer_create()\n",
    "face_recognizer.read('face_trained.yml')\n",
    "\n",
    "img=cv.imread(r'D:\\computerVision\\Resources\\Faces\\val\\elton_john\\1.jpg')\n",
    "\n",
    "gray=cv.cvtColor(img,cv.COLOR_BGR2GRAY)\n",
    "cv.imshow('Person',gray)\n",
    "\n",
    "face_rect=haar_cascade.detectMultiScale(gray,1.1,4)\n",
    "face_recognizer.read('face_trained.yml')\n",
    "\n",
    "for(x,y,w,h) in face_rect:\n",
    "    face_roi=gray[y:y+h,x:x+w]\n",
    "\n",
    "    label,confidence=face_recognizer.predict(face_roi)\n",
    "    print(f'label={people[label]} with a confidence of {confidence}')\n",
    "    \n",
    "    cv.putText(img,str(people[label]),(20,20),cv.FONT_HERSHEY_COMPLEX,1.0,(0,255,0),thickness=2)\n",
    "    cv.rectangle(img,(x,y),(x+w,y+h),(0,255,0),thickness=2)\n",
    "cv.imshow('Detected Face',img)\n",
    "cv.waitKey(0)"
   ]
  },
  {
   "cell_type": "code",
   "execution_count": null,
   "metadata": {},
   "outputs": [],
   "source": []
  }
 ],
 "metadata": {
  "kernelspec": {
   "display_name": "Python 3",
   "language": "python",
   "name": "python3"
  },
  "language_info": {
   "codemirror_mode": {
    "name": "ipython",
    "version": 3
   },
   "file_extension": ".py",
   "mimetype": "text/x-python",
   "name": "python",
   "nbconvert_exporter": "python",
   "pygments_lexer": "ipython3",
   "version": "3.11.3"
  },
  "orig_nbformat": 4
 },
 "nbformat": 4,
 "nbformat_minor": 2
}
