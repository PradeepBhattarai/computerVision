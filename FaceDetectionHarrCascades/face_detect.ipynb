{
 "cells": [
  {
   "cell_type": "code",
   "execution_count": 1,
   "metadata": {},
   "outputs": [
    {
     "name": "stdout",
     "output_type": "stream",
     "text": [
      "Number of faces found=1\n"
     ]
    }
   ],
   "source": [
    "import cv2 as cv\n",
    "\n",
    "img=cv.imread('../Resources/Photos/lady.jpg')\n",
    "# cv.imshow('Person',img)\n",
    "\n",
    "gray=cv.cvtColor(img,cv.COLOR_BGR2GRAY)\n",
    "cv.imshow('gray',gray)\n",
    "\n",
    "haar_cascade=cv.CascadeClassifier('haar_face.xml')\n",
    "faces_rect=haar_cascade.detectMultiScale(gray,scaleFactor=1.1,minNeighbors=3)\n",
    "\n",
    "print(f'Number of faces found={len(faces_rect)}')\n",
    "\n",
    "for (x,y,w,h) in faces_rect:\n",
    "    cv.rectangle(img,(x,y),(x+w,y+h),(0,255,0),thickness=2)\n",
    "cv.imshow('Detected Faces',img)\n",
    "\n",
    "cv.waitKey(0)\n",
    "cv.destroyAllWindows()"
   ]
  },
  {
   "cell_type": "code",
   "execution_count": 4,
   "metadata": {},
   "outputs": [
    {
     "name": "stdout",
     "output_type": "stream",
     "text": [
      "Number of faces found=6\n"
     ]
    }
   ],
   "source": [
    "import cv2 as cv\n",
    "\n",
    "img=cv.imread('../Resources/Photos/group 2.jpg')\n",
    "# cv.imshow('Group Of 5 People',img)\n",
    "\n",
    "gray=cv.cvtColor(img,cv.COLOR_BGR2GRAY)\n",
    "cv.imshow('gray',gray)\n",
    "\n",
    "haar_cascade=cv.CascadeClassifier('haar_face.xml')\n",
    "faces_rect=haar_cascade.detectMultiScale(gray,scaleFactor=1.1,minNeighbors=6)\n",
    "\n",
    "print(f'Number of faces found={len(faces_rect)}')\n",
    "\n",
    "for (x,y,w,h) in faces_rect:\n",
    "    cv.rectangle(img,(x,y),(x+w,y+h),(0,255,0),thickness=2)\n",
    "cv.imshow('Detected Faces',img)\n",
    "\n",
    "cv.waitKey(0)\n",
    "cv.destroyAllWindows()\n"
   ]
  },
  {
   "cell_type": "code",
   "execution_count": 2,
   "metadata": {},
   "outputs": [
    {
     "name": "stdout",
     "output_type": "stream",
     "text": [
      "Number of faces found=14\n"
     ]
    }
   ],
   "source": [
    "import cv2 as cv\n",
    "\n",
    "img=cv.imread('../Resources/Photos/group 1.jpg')\n",
    "# cv.imshow('Group Of 5 People',img)\n",
    "\n",
    "gray=cv.cvtColor(img,cv.COLOR_BGR2GRAY)\n",
    "cv.imshow('gray',gray)\n",
    "\n",
    "haar_cascade=cv.CascadeClassifier('haar_face.xml')\n",
    "faces_rect=haar_cascade.detectMultiScale(gray,scaleFactor=1.1,minNeighbors=2)\n",
    "\n",
    "print(f'Number of faces found={len(faces_rect)}')\n",
    "\n",
    "for (x,y,w,h) in faces_rect:\n",
    "    cv.rectangle(img,(x,y),(x+w,y+h),(0,255,0),thickness=)\n",
    "cv.imshow('Detected Faces',img)\n",
    "\n",
    "cv.waitKey(0)\n",
    "cv.destroyAllWindows()\n"
   ]
  }
 ],
 "metadata": {
  "kernelspec": {
   "display_name": "Python 3",
   "language": "python",
   "name": "python3"
  },
  "language_info": {
   "codemirror_mode": {
    "name": "ipython",
    "version": 3
   },
   "file_extension": ".py",
   "mimetype": "text/x-python",
   "name": "python",
   "nbconvert_exporter": "python",
   "pygments_lexer": "ipython3",
   "version": "3.11.3"
  },
  "orig_nbformat": 4
 },
 "nbformat": 4,
 "nbformat_minor": 2
}
